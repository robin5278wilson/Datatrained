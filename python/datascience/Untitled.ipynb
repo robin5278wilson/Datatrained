{
 "cells": [
  {
   "cell_type": "code",
   "execution_count": 1,
   "id": "bb25d3a1",
   "metadata": {},
   "outputs": [
    {
     "name": "stdout",
     "output_type": "stream",
     "text": [
      "Hello data science\n"
     ]
    }
   ],
   "source": [
    "print(\"Hello data science\")"
   ]
  },
  {
   "cell_type": "code",
   "execution_count": 2,
   "id": "9cd55043",
   "metadata": {},
   "outputs": [
    {
     "name": "stdout",
     "output_type": "stream",
     "text": [
      "Robin Wilson\n"
     ]
    }
   ],
   "source": [
    "print(\"Robin Wilson\")"
   ]
  },
  {
   "cell_type": "code",
   "execution_count": null,
   "id": "d01312e9",
   "metadata": {},
   "outputs": [],
   "source": []
  },
  {
   "cell_type": "code",
   "execution_count": 4,
   "id": "0b7e8b11",
   "metadata": {},
   "outputs": [
    {
     "data": {
      "text/plain": [
       "25"
      ]
     },
     "execution_count": 4,
     "metadata": {},
     "output_type": "execute_result"
    }
   ],
   "source": [
    "10+15"
   ]
  },
  {
   "cell_type": "code",
   "execution_count": 5,
   "id": "a52d0bb4",
   "metadata": {},
   "outputs": [
    {
     "name": "stdout",
     "output_type": "stream",
     "text": [
      "Divya Sandiman\")\n"
     ]
    }
   ],
   "source": [
    "print('Divya Sandiman\")')"
   ]
  },
  {
   "cell_type": "code",
   "execution_count": null,
   "id": "863c6c02",
   "metadata": {},
   "outputs": [],
   "source": []
  }
 ],
 "metadata": {
  "kernelspec": {
   "display_name": "Python 3 (ipykernel)",
   "language": "python",
   "name": "python3"
  },
  "language_info": {
   "codemirror_mode": {
    "name": "ipython",
    "version": 3
   },
   "file_extension": ".py",
   "mimetype": "text/x-python",
   "name": "python",
   "nbconvert_exporter": "python",
   "pygments_lexer": "ipython3",
   "version": "3.11.3"
  }
 },
 "nbformat": 4,
 "nbformat_minor": 5
}
